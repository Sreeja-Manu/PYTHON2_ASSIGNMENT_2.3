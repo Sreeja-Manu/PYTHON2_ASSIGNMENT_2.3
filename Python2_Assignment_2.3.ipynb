{
 "cells": [
  {
   "cell_type": "markdown",
   "metadata": {},
   "source": [
    "### 2.3 Program to reverse a word after accepting the input from the user"
   ]
  },
  {
   "cell_type": "code",
   "execution_count": 5,
   "metadata": {},
   "outputs": [
    {
     "name": "stdout",
     "output_type": "stream",
     "text": [
      "Please enter the word: Acadgild\n",
      "\n",
      "Input Word: Acadgild\n",
      "\n",
      "Output: dligdacA\n"
     ]
    }
   ],
   "source": [
    "word=input(\"Please enter the word: \")\n",
    "print(\"\\nInput Word: \" +word+ \"\\n\\nOutput: \"+word[::-1])\n",
    "    "
   ]
  },
  {
   "cell_type": "code",
   "execution_count": null,
   "metadata": {},
   "outputs": [],
   "source": []
  }
 ],
 "metadata": {
  "kernelspec": {
   "display_name": "Python 3",
   "language": "python",
   "name": "python3"
  },
  "language_info": {
   "codemirror_mode": {
    "name": "ipython",
    "version": 3
   },
   "file_extension": ".py",
   "mimetype": "text/x-python",
   "name": "python",
   "nbconvert_exporter": "python",
   "pygments_lexer": "ipython3",
   "version": "3.7.0"
  }
 },
 "nbformat": 4,
 "nbformat_minor": 2
}
